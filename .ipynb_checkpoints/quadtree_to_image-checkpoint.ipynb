{
 "cells": [
  {
   "cell_type": "markdown",
   "metadata": {},
   "source": [
    "# Converting Quadtrees Into Images"
   ]
  },
  {
   "cell_type": "code",
   "execution_count": 1,
   "metadata": {},
   "outputs": [],
   "source": [
    "PADDING = 0\n",
    "OUTPUT_SCALE = 1\n",
    "ERROR_THRESHOLD = 7"
   ]
  },
  {
   "cell_type": "code",
   "execution_count": 2,
   "metadata": {},
   "outputs": [],
   "source": [
    "from PIL import Image, ImageDraw, ImageStat\n",
    "\n",
    "def weighted_average(hist):\n",
    "    \"\"\"Returns the weighted color average and error from a hisogram of pixles\"\"\"\n",
    "    total = sum(hist)\n",
    "    value, error = 0, 0\n",
    "    if total > 0:\n",
    "        value = sum(i * x for i, x in enumerate(hist)) / total\n",
    "        error = sum(x * (value - i) ** 2 for i, x in enumerate(hist)) / total\n",
    "        error = error ** 0.5\n",
    "    return value, error\n",
    "\n",
    "def color_from_histogram(hist):\n",
    "    \"\"\"Returns the average rgb color from a given histogram of pixle color counts\"\"\"\n",
    "    r, re = weighted_average(hist[:256])\n",
    "    g, ge = weighted_average(hist[256:512])\n",
    "    b, be = weighted_average(hist[512:768])\n",
    "    e = re * 0.2989 + ge * 0.5870 + be * 0.1140\n",
    "    return (int(r), int(g), int(b)), e"
   ]
  },
  {
   "cell_type": "code",
   "execution_count": 3,
   "metadata": {},
   "outputs": [],
   "source": [
    "class QuadtreeNode(object):\n",
    "    \"\"\"Node for Quadtree that holds a subsection of an image and \n",
    "        information about that section\"\"\"\n",
    "\n",
    "    def __init__(self, img, box, depth):\n",
    "        self.box = box  # (left, top, right, bottom)\n",
    "        self.depth = depth\n",
    "        self.children = None  # tl, tr, bl, br\n",
    "        self.leaf = False\n",
    "\n",
    "        # Gets the nodes average color\n",
    "        image = img.crop(box)\n",
    "        self.width, self.height = image.size  # (width, height)\n",
    "        hist = image.histogram()\n",
    "        self.color, self.error = color_from_histogram(hist)  # (r, g, b), error\n",
    "        \n",
    "    def is_leaf(self):\n",
    "            \"\"\"Determins if a the node is a leaf\"\"\"\n",
    "            return self.leaf"
   ]
  },
  {
   "cell_type": "code",
   "execution_count": 4,
   "metadata": {},
   "outputs": [],
   "source": [
    "class Quadtree(object):\n",
    "    \"\"\"Tree that has nodes with at most four child nodes that hold \n",
    "        sections of an image where there at most n leaf nodes where\n",
    "        n is the number of pixles in the image\"\"\"\n",
    "\n",
    "    def __init__(self, image, max_depth=None):\n",
    "        self.root = QuadtreeNode(image, image.getbbox(), 0)\n",
    "        self.width, self.height = image.size\n",
    "        self.max_depth = 0\n",
    "        self._build_tree(image, self.root, max_depth)\n",
    "\n",
    "    def _build_tree(self, image, node, max_depth=None, curr_depth=0):\n",
    "        \"\"\"Recursively adds nodes untill max_depth is reached or error is less than 5\"\"\"\n",
    "        if (max_depth is not None and curr_depth >= max_depth) or node.error <= ERROR_THRESHOLD:\n",
    "            node.leaf = True\n",
    "            return\n",
    "        \n",
    "        boxes = self._split(image, node.box)\n",
    "        self.max_depth += 1\n",
    "        node_children = [QuadtreeNode(image, box, curr_depth+1) for box in boxes]\n",
    "        for child in node_children:\n",
    "            self._build_tree(image, child, max_depth, curr_depth+1)\n",
    "        node.children = node_children\n",
    "\n",
    "    def _split(self, image, box):\n",
    "        \"\"\"Splits the given image section into four equal image boxes\"\"\"\n",
    "        l, t, r, b = box\n",
    "        lr = l + (r - l) / 2\n",
    "        tb = t + (b - t) / 2\n",
    "        tl = (l, t, lr, tb)\n",
    "        tr = (lr, t, r, tb)\n",
    "        bl = (l, tb, lr, b)\n",
    "        br = (lr, tb, r, b)\n",
    "        return [tl, tr, bl, br]\n",
    "\n",
    "    def get_leaf_nodes(self, depth):\n",
    "        \"\"\"Gets all the nodes on a given depth/level\"\"\"\n",
    "        if depth > self.max_depth:\n",
    "            raise ValueError('A depth larger than the trees depth was given')\n",
    "            \n",
    "        leaf_nodes = []\n",
    "        self._get_leaf_nodes_recusion(self.root, depth, leaf_nodes.append)\n",
    "        return leaf_nodes\n",
    "        \n",
    "    def _get_leaf_nodes_recusion(self, node, depth, func):\n",
    "        \"\"\"Recusivley gets leaf nodes based on whether a node is a leaf or the given depth is reached\"\"\"\n",
    "        if node.leaf is True or node.depth == depth:\n",
    "            func(node)\n",
    "        elif node.children is not None:\n",
    "            for child in node.children:\n",
    "                self._get_leaf_nodes_recusion(child, depth, func)\n",
    "\n",
    "    \n",
    "    def _create_image_from_depth(self, depth):\n",
    "        \"\"\"Creates a Pillow image object from a given level/depth of the tree\"\"\"\n",
    "        m = OUTPUT_SCALE\n",
    "        dx, dy = (PADDING, PADDING) # padding for each image section\n",
    "        image = Image.new('RGB', (int(self.width * m + dx), int(self.height * m + dy)))\n",
    "        draw = ImageDraw.Draw(image)\n",
    "        draw.rectangle((0, 0, self.width * m + dx, self.height * m + dy), (0, 0, 0))\n",
    "        \n",
    "        leaf_nodes = self.get_leaf_nodes(depth)\n",
    "        for node in leaf_nodes:\n",
    "            l, t, r, b = node.box\n",
    "            box = (l * m + dx, t * m + dy, r * m - 1, b * m - 1)\n",
    "            draw.rectangle(box, node.color)\n",
    "        return image\n",
    "        \n",
    "    def render_at_depth(self, depth=0):\n",
    "        \"\"\"Renders the image of a given depth/level\"\"\"\n",
    "        image = self._create_image_from_depth(depth)\n",
    "        image.show()\n",
    "        \n",
    "    def create_gif(self, file_name, duration=1000, loop=0):\n",
    "        \"\"\"Creates a gif at the given filename from each level of the tree\"\"\"\n",
    "        images = []\n",
    "        end_product_image = self._create_image_from_depth(self.max_depth)\n",
    "        for i in range(self.max_depth):\n",
    "            image = self._create_image_from_depth(i)\n",
    "            images.append(image)\n",
    "        # Add extra final produc images to allow for seeing result longer\n",
    "        for _ in range(4):\n",
    "            images.append(end_product_image)\n",
    "        # Save the images as a gif using Pillow\n",
    "        images[0].save(\n",
    "            file_name, \n",
    "            save_all=True, \n",
    "            append_images=images[1:],\n",
    "            duration=duration, loop=loop)"
   ]
  },
  {
   "cell_type": "code",
   "execution_count": null,
   "metadata": {
    "scrolled": false
   },
   "outputs": [],
   "source": [
    "image = Image.open('./Images/flowers.jpg').convert('RGB')\n",
    "tree = Quadtree(image)"
   ]
  },
  {
   "cell_type": "code",
   "execution_count": null,
   "metadata": {},
   "outputs": [],
   "source": [
    "tree.render_at_depth(tree.max_depth)"
   ]
  },
  {
   "cell_type": "code",
   "execution_count": null,
   "metadata": {},
   "outputs": [],
   "source": [
    "tree.max_depth"
   ]
  },
  {
   "cell_type": "code",
   "execution_count": null,
   "metadata": {},
   "outputs": [],
   "source": []
  }
 ],
 "metadata": {
  "kernelspec": {
   "display_name": "Python 3",
   "language": "python",
   "name": "python3"
  },
  "language_info": {
   "codemirror_mode": {
    "name": "ipython",
    "version": 3
   },
   "file_extension": ".py",
   "mimetype": "text/x-python",
   "name": "python",
   "nbconvert_exporter": "python",
   "pygments_lexer": "ipython3",
   "version": "3.7.6"
  }
 },
 "nbformat": 4,
 "nbformat_minor": 2
}
